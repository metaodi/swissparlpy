{
 "cells": [
  {
   "cell_type": "markdown",
   "id": "670c0b4a",
   "metadata": {},
   "source": [
    "# Usage examples of `swissparlpy`"
   ]
  },
  {
   "cell_type": "code",
   "execution_count": null,
   "id": "60b39167",
   "metadata": {},
   "outputs": [],
   "source": [
    "import swissparlpy as spp\n",
    "import requests\n",
    "import pandas as pd\n",
    "import os\n",
    "import urllib3\n",
    "from datetime import datetime, timezone"
   ]
  },
  {
   "cell_type": "code",
   "execution_count": null,
   "id": "be673d98",
   "metadata": {},
   "outputs": [],
   "source": [
    "urllib3.disable_warnings()\n",
    "__location__ = os.path.realpath(os.getcwd())"
   ]
  },
  {
   "cell_type": "markdown",
   "id": "dcb93cce",
   "metadata": {},
   "source": [
    "## Create client with custom session\n",
    "\n",
    "Sometimes it's necessary to tweak the requests Session (e.g. to provide authentication or disable SSL verification).\n",
    "For this purpose a custom session can be passed to `SwissParlClient`."
   ]
  },
  {
   "cell_type": "code",
   "execution_count": null,
   "id": "8b025514",
   "metadata": {},
   "outputs": [],
   "source": [
    "session = requests.Session()\n",
    "session.verify = False # disable SSL verification\n",
    "client = spp.SwissParlClient(session=session)"
   ]
  },
  {
   "cell_type": "markdown",
   "id": "688454dc",
   "metadata": {},
   "source": [
    "For most common cases, this is not necessary and you don't even have to create your own `SwissParlClient`.\n",
    "\n",
    "Simply use the shorthand methods to get the data:"
   ]
  },
  {
   "cell_type": "code",
   "execution_count": null,
   "id": "bb8d2861",
   "metadata": {},
   "outputs": [],
   "source": [
    "tables = spp.get_tables()\n",
    "glimpse_df = pd.DataFrame(spp.get_glimpse(tables[0]))\n",
    "glimpse_df"
   ]
  },
  {
   "cell_type": "markdown",
   "id": "90daa5c0",
   "metadata": {},
   "source": [
    "## Get metadata of tables and variables"
   ]
  },
  {
   "cell_type": "code",
   "execution_count": null,
   "id": "98bd4380",
   "metadata": {},
   "outputs": [],
   "source": [
    "client.get_tables() # get list of all tables"
   ]
  },
  {
   "cell_type": "code",
   "execution_count": null,
   "id": "8e806d59",
   "metadata": {},
   "outputs": [],
   "source": [
    "client.get_variables('Party') # get list of variables of a table"
   ]
  },
  {
   "cell_type": "markdown",
   "id": "ea10ec83",
   "metadata": {},
   "source": [
    "## Load data in `pandas` DataFrame"
   ]
  },
  {
   "cell_type": "code",
   "execution_count": null,
   "id": "40ff9c5d",
   "metadata": {},
   "outputs": [],
   "source": [
    "parties = client.get_data('Party', Language='DE')\n",
    "parties_df = pd.DataFrame(parties)\n",
    "parties_df"
   ]
  },
  {
   "cell_type": "markdown",
   "id": "0e8dc714",
   "metadata": {},
   "source": [
    "## Use substring operators to query data (`__startswith`, `__contains`)"
   ]
  },
  {
   "cell_type": "code",
   "execution_count": null,
   "id": "ae6fc080",
   "metadata": {},
   "outputs": [],
   "source": [
    "persons = client.get_data(\"Person\", Language=\"DE\", LastName__startswith='Bal')\n",
    "persons.count"
   ]
  },
  {
   "cell_type": "code",
   "execution_count": null,
   "id": "0ddc4859",
   "metadata": {},
   "outputs": [],
   "source": [
    "person_df = pd.DataFrame(persons)\n",
    "person_df"
   ]
  },
  {
   "cell_type": "code",
   "execution_count": null,
   "id": "2a992abb",
   "metadata": {},
   "outputs": [],
   "source": [
    "co2_business = client.get_data(\"Business\", Title__contains=\"CO2\", Language = \"DE\")\n",
    "co2_business.count"
   ]
  },
  {
   "cell_type": "code",
   "execution_count": null,
   "id": "1f41475a",
   "metadata": {},
   "outputs": [],
   "source": [
    "co2_df = pd.DataFrame(co2_business)\n",
    "co2_df"
   ]
  },
  {
   "cell_type": "markdown",
   "id": "45d34f77",
   "metadata": {},
   "source": [
    "## Query with date ranges"
   ]
  },
  {
   "cell_type": "code",
   "execution_count": null,
   "id": "b49d0a3a",
   "metadata": {},
   "outputs": [],
   "source": [
    "utc_start_date = datetime.fromisoformat('2019-10-01').astimezone(timezone.utc)\n",
    "utc_end_Date = datetime.fromisoformat('2019-10-31').astimezone(timezone.utc)\n",
    "business_oct19 = client.get_data(\n",
    "    \"Business\",\n",
    "    Language=\"DE\",\n",
    "    SubmissionDate__gte=utc_start_date,\n",
    "    SubmissionDate__lt=utc_end_Date\n",
    ")\n",
    "business_oct19.count"
   ]
  },
  {
   "cell_type": "code",
   "execution_count": null,
   "id": "90e0cb05",
   "metadata": {},
   "outputs": [],
   "source": [
    "busi_oct19 = pd.DataFrame(business_oct19)\n",
    "busi_oct19 = busi_oct19.sort_values(by=['SubmissionDate']).reset_index(drop=True)\n",
    "busi_oct19[['SubmissionDate', 'Title']]"
   ]
  },
  {
   "cell_type": "markdown",
   "id": "60aa1b13",
   "metadata": {},
   "source": [
    "## Download large query in batches\n",
    "\n",
    "This script shows how to download votes from the `Voting` table by iterating over each session in a legislative period.\n",
    "The chunks are then saved in a directory as pickled DataFrames.\n",
    "\n",
    "Later on, those chunks can easily be combined together as a single DataFrame containing all the votes of a legislative period."
   ]
  },
  {
   "cell_type": "code",
   "execution_count": null,
   "id": "d815c0b1",
   "metadata": {},
   "outputs": [],
   "source": [
    "path = os.path.join(__location__, \"voting50\")\n",
    "\n",
    "def save_votes_of_session(id):\n",
    "    if not os.path.exists(path):\n",
    "        os.mkdir(path)\n",
    "    pickle_path = os.path.join(path, f'{id}.pks')\n",
    "    \n",
    "    if os.path.exists(pickle_path):\n",
    "        print(f\"File {pickle_path} already exists, skipping\")\n",
    "        return\n",
    "    \n",
    "    print(f\"Loading votes of session {id}...\")\n",
    "    data = client.get_data(\"Voting\", Language=\"DE\", IdSession=id)\n",
    "    print(f\"{data.count} rows loaded.\")\n",
    "    df = pd.DataFrame(data)\n",
    "    \n",
    "    df.to_pickle(pickle_path)\n",
    "    print(f\"Saved pickle at {pickle_path}\")\n",
    "    print(\"\")\n",
    "\n",
    "\n",
    "# get all session of the 50 legislative period\n",
    "sessions50 = client.get_data(\"Session\", Language=\"DE\", LegislativePeriodNumber=50)\n",
    "sessions50.count\n",
    "\n",
    "for session in sessions50:\n",
    "    print(f\"Loading session {session['ID']}\")\n",
    "    save_votes_of_session(session['ID'])\n",
    "\n",
    "# Combine to one dataframe\n",
    "path = os.path.join(__location__, \"voting50\")\n",
    "df_voting50 = pd.concat([pd.read_pickle(os.path.join(path, x)) for x in os.listdir(path)])\n",
    "df_voting50"
   ]
  },
  {
   "cell_type": "code",
   "execution_count": null,
   "id": "fea8e8b1",
   "metadata": {},
   "outputs": [],
   "source": [
    "df_5005 = pd.read_pickle(os.path.join(__location__, \"voting50\", '5005.pks'))\n",
    "df_5005"
   ]
  },
  {
   "cell_type": "code",
   "execution_count": null,
   "id": "88747639",
   "metadata": {},
   "outputs": [],
   "source": [
    "# Combine to one dataframe\n",
    "path = os.path.join(__location__, \"voting50\")\n",
    "df_voting50 = pd.concat([pd.read_pickle(os.path.join(path, x)) for x in os.listdir(path)])\n",
    "df_voting50"
   ]
  },
  {
   "cell_type": "markdown",
   "id": "9dc1854c-9f97-4bd4-bc21-50b361efa54b",
   "metadata": {},
   "source": [
    "## Queries with lots of results (server-side pagination)\n",
    "\n",
    "There is a server-side limit of 1000 items that are being returned.\n",
    "swissparlpy handles this server-side pagination transparently, so a user of the library should not worry about it."
   ]
  },
  {
   "cell_type": "code",
   "execution_count": null,
   "id": "408f6b47-c352-49ac-ac0a-b4fbaa00b7cc",
   "metadata": {},
   "outputs": [],
   "source": [
    "business = client.get_data(\"Business\", Language = \"DE\")\n",
    "business.count"
   ]
  },
  {
   "cell_type": "markdown",
   "id": "b6b842d0-ebd5-44a2-9169-0d91128f3da3",
   "metadata": {},
   "source": [
    "As we can see, there are over 50k results.\n",
    "Initially only the first 1000 are loaded:"
   ]
  },
  {
   "cell_type": "code",
   "execution_count": null,
   "id": "8b463504-3a2e-417d-b302-47adb70d23a9",
   "metadata": {},
   "outputs": [],
   "source": [
    "len(business.data)"
   ]
  },
  {
   "cell_type": "code",
   "execution_count": null,
   "id": "02717c13-01a6-4772-b492-c56afdddac85",
   "metadata": {},
   "outputs": [],
   "source": [
    "business[1]"
   ]
  },
  {
   "cell_type": "markdown",
   "id": "49fd8ec7-e5d8-4b10-ba03-1543bf52b81e",
   "metadata": {},
   "source": [
    "But as soon as a next element is accessed, new data is (lazy) loaded:"
   ]
  },
  {
   "cell_type": "code",
   "execution_count": null,
   "id": "fafc6266-cc43-4975-9e39-2866f29ef713",
   "metadata": {},
   "outputs": [],
   "source": [
    "business[1001]"
   ]
  },
  {
   "cell_type": "code",
   "execution_count": null,
   "id": "54556cc8-e076-4ea7-bb10-63aaf9f80e10",
   "metadata": {},
   "outputs": [],
   "source": [
    "len(business.data)"
   ]
  },
  {
   "cell_type": "markdown",
   "id": "19628322-4a7f-4720-a910-e2d72c1d744c",
   "metadata": {},
   "source": [
    "If the last element is needed, all the data is loaded (NOTE: this uses quite some memory):"
   ]
  },
  {
   "cell_type": "code",
   "execution_count": null,
   "id": "bcdb29ce-30ba-428c-9162-b2c843020227",
   "metadata": {},
   "outputs": [],
   "source": [
    "business[-1]"
   ]
  },
  {
   "cell_type": "code",
   "execution_count": null,
   "id": "79adb078-dffc-46a2-8746-2b54238b3718",
   "metadata": {},
   "outputs": [],
   "source": [
    "len(business.data)"
   ]
  }
 ],
 "metadata": {
  "kernelspec": {
   "display_name": "Python 3 (ipykernel)",
   "language": "python",
   "name": "python3"
  },
  "language_info": {
   "codemirror_mode": {
    "name": "ipython",
    "version": 3
   },
   "file_extension": ".py",
   "mimetype": "text/x-python",
   "name": "python",
   "nbconvert_exporter": "python",
   "pygments_lexer": "ipython3",
   "version": "3.8.10"
  }
 },
 "nbformat": 4,
 "nbformat_minor": 5
}
